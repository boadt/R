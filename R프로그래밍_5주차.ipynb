{
  "nbformat": 4,
  "nbformat_minor": 0,
  "metadata": {
    "colab": {
      "provenance": [],
      "authorship_tag": "ABX9TyN7h6Gexj/yff3jsCjKNsFj",
      "include_colab_link": true
    },
    "kernelspec": {
      "name": "ir",
      "display_name": "R"
    },
    "language_info": {
      "name": "R"
    },
    "gpuClass": "standard"
  },
  "cells": [
    {
      "cell_type": "markdown",
      "metadata": {
        "id": "view-in-github",
        "colab_type": "text"
      },
      "source": [
        "<a href=\"https://colab.research.google.com/github/boadt/R/blob/main/R%ED%94%84%EB%A1%9C%EA%B7%B8%EB%9E%98%EB%B0%8D_5%EC%A3%BC%EC%B0%A8.ipynb\" target=\"_parent\"><img src=\"https://colab.research.google.com/assets/colab-badge.svg\" alt=\"Open In Colab\"/></a>"
      ]
    },
    {
      "cell_type": "markdown",
      "source": [
        "# p.99"
      ],
      "metadata": {
        "id": "sp8BCJBUEkvs"
      }
    },
    {
      "cell_type": "code",
      "execution_count": 4,
      "metadata": {
        "id": "KfzJjjc9EfDv"
      },
      "outputs": [],
      "source": [
        "ID <- c(\"1\", \"2\", \"3\", \"4\", \"5\")\n",
        "MID_EXAM <- c(10,25,100,75,30)\n",
        "CLASS <-c (\"1반\",\"2반\",\"3반\",\"1반\",\"2반\")"
      ]
    },
    {
      "cell_type": "code",
      "source": [
        "example_test <- data.frame(ID,MID_EXAM,CLASS)\n",
        "example_test"
      ],
      "metadata": {
        "colab": {
          "base_uri": "https://localhost:8080/",
          "height": 255
        },
        "id": "fCJzjJwdE2-7",
        "outputId": "231ce31f-bc87-4969-954e-e30d8e113bf0"
      },
      "execution_count": 5,
      "outputs": [
        {
          "output_type": "display_data",
          "data": {
            "text/html": [
              "<table class=\"dataframe\">\n",
              "<caption>A data.frame: 5 × 3</caption>\n",
              "<thead>\n",
              "\t<tr><th scope=col>ID</th><th scope=col>MID_EXAM</th><th scope=col>CLASS</th></tr>\n",
              "\t<tr><th scope=col>&lt;chr&gt;</th><th scope=col>&lt;dbl&gt;</th><th scope=col>&lt;chr&gt;</th></tr>\n",
              "</thead>\n",
              "<tbody>\n",
              "\t<tr><td>1</td><td> 10</td><td>1반</td></tr>\n",
              "\t<tr><td>2</td><td> 25</td><td>2반</td></tr>\n",
              "\t<tr><td>3</td><td>100</td><td>3반</td></tr>\n",
              "\t<tr><td>4</td><td> 75</td><td>1반</td></tr>\n",
              "\t<tr><td>5</td><td> 30</td><td>2반</td></tr>\n",
              "</tbody>\n",
              "</table>\n"
            ],
            "text/markdown": "\nA data.frame: 5 × 3\n\n| ID &lt;chr&gt; | MID_EXAM &lt;dbl&gt; | CLASS &lt;chr&gt; |\n|---|---|---|\n| 1 |  10 | 1반 |\n| 2 |  25 | 2반 |\n| 3 | 100 | 3반 |\n| 4 |  75 | 1반 |\n| 5 |  30 | 2반 |\n\n",
            "text/latex": "A data.frame: 5 × 3\n\\begin{tabular}{lll}\n ID & MID\\_EXAM & CLASS\\\\\n <chr> & <dbl> & <chr>\\\\\n\\hline\n\t 1 &  10 & 1반\\\\\n\t 2 &  25 & 2반\\\\\n\t 3 & 100 & 3반\\\\\n\t 4 &  75 & 1반\\\\\n\t 5 &  30 & 2반\\\\\n\\end{tabular}\n",
            "text/plain": [
              "  ID MID_EXAM CLASS\n",
              "1 1   10      1반  \n",
              "2 2   25      2반  \n",
              "3 3  100      3반  \n",
              "4 4   75      1반  \n",
              "5 5   30      2반  "
            ]
          },
          "metadata": {}
        }
      ]
    },
    {
      "cell_type": "markdown",
      "source": [
        "# p.113"
      ],
      "metadata": {
        "id": "2X-RvoqSFZkE"
      }
    },
    {
      "cell_type": "code",
      "source": [
        "x <-c(1,3,5,7,9)\n",
        "x"
      ],
      "metadata": {
        "colab": {
          "base_uri": "https://localhost:8080/",
          "height": 34
        },
        "id": "YHBEAqOhFR4E",
        "outputId": "4a43a10c-695c-4514-dd24-08400c457fd0"
      },
      "execution_count": 6,
      "outputs": [
        {
          "output_type": "display_data",
          "data": {
            "text/html": [
              "<style>\n",
              ".list-inline {list-style: none; margin:0; padding: 0}\n",
              ".list-inline>li {display: inline-block}\n",
              ".list-inline>li:not(:last-child)::after {content: \"\\00b7\"; padding: 0 .5ex}\n",
              "</style>\n",
              "<ol class=list-inline><li>1</li><li>3</li><li>5</li><li>7</li><li>9</li></ol>\n"
            ],
            "text/markdown": "1. 1\n2. 3\n3. 5\n4. 7\n5. 9\n\n\n",
            "text/latex": "\\begin{enumerate*}\n\\item 1\n\\item 3\n\\item 5\n\\item 7\n\\item 9\n\\end{enumerate*}\n",
            "text/plain": [
              "[1] 1 3 5 7 9"
            ]
          },
          "metadata": {}
        }
      ]
    },
    {
      "cell_type": "code",
      "source": [
        "y<-\"Hello\"\n",
        "y"
      ],
      "metadata": {
        "colab": {
          "base_uri": "https://localhost:8080/",
          "height": 34
        },
        "id": "-uQP-YxHFexg",
        "outputId": "ddf3b462-5321-47b1-fa32-b90863d5a18f"
      },
      "execution_count": 7,
      "outputs": [
        {
          "output_type": "display_data",
          "data": {
            "text/html": [
              "'Hello'"
            ],
            "text/markdown": "'Hello'",
            "text/latex": "'Hello'",
            "text/plain": [
              "[1] \"Hello\""
            ]
          },
          "metadata": {}
        }
      ]
    },
    {
      "cell_type": "code",
      "source": [
        "num_three_return <- function(num1,num2,num3){\n",
        "  print(num1+num2+num3)\n",
        "}\n",
        "\n",
        "num_three_return(1,2,3)"
      ],
      "metadata": {
        "colab": {
          "base_uri": "https://localhost:8080/"
        },
        "id": "_B96n99cFhfn",
        "outputId": "6d14af29-f2b8-46f2-94ba-9295ac2c6535"
      },
      "execution_count": 9,
      "outputs": [
        {
          "output_type": "stream",
          "name": "stdout",
          "text": [
            "[1] 6\n"
          ]
        }
      ]
    },
    {
      "cell_type": "markdown",
      "source": [
        "# p.165"
      ],
      "metadata": {
        "id": "-LPJp9CIFxjb"
      }
    },
    {
      "cell_type": "code",
      "source": [
        "install.packages(\"readxl\")\n",
        "library(readxl)"
      ],
      "metadata": {
        "colab": {
          "base_uri": "https://localhost:8080/"
        },
        "id": "dUNNzfNgFsFI",
        "outputId": "2ef7ca36-0e97-4dec-a009-ad14144be515"
      },
      "execution_count": 10,
      "outputs": [
        {
          "output_type": "stream",
          "name": "stderr",
          "text": [
            "Installing package into ‘/usr/local/lib/R/site-library’\n",
            "(as ‘lib’ is unspecified)\n",
            "\n"
          ]
        }
      ]
    },
    {
      "cell_type": "code",
      "source": [
        "install.packages(\"Jsonlite\")\n",
        "library(Jsonlite)"
      ],
      "metadata": {
        "colab": {
          "base_uri": "https://localhost:8080/",
          "height": 339
        },
        "id": "Mn9TMPYiGDf7",
        "outputId": "95070f3f-0a77-4fe8-9ac7-6771f4a8cbb5"
      },
      "execution_count": 11,
      "outputs": [
        {
          "output_type": "stream",
          "name": "stderr",
          "text": [
            "Installing package into ‘/usr/local/lib/R/site-library’\n",
            "(as ‘lib’ is unspecified)\n",
            "\n",
            "Warning message:\n",
            "“package ‘Jsonlite’ is not available for this version of R\n",
            "\n",
            "A version of this package for your version of R might be available elsewhere,\n",
            "see the ideas at\n",
            "https://cran.r-project.org/doc/manuals/r-patched/R-admin.html#Installing-packages”\n",
            "Warning message:\n",
            "“Perhaps you meant ‘jsonlite’ ?”\n"
          ]
        },
        {
          "output_type": "error",
          "ename": "ERROR",
          "evalue": "ignored",
          "traceback": [
            "Error in library(Jsonlite): there is no package called ‘Jsonlite’\nTraceback:\n",
            "1. library(Jsonlite)"
          ]
        }
      ]
    },
    {
      "cell_type": "markdown",
      "source": [
        "# p.183"
      ],
      "metadata": {
        "id": "rDAAIyUEGVXa"
      }
    },
    {
      "cell_type": "code",
      "source": [
        "data(iris)"
      ],
      "metadata": {
        "id": "AUMgrwXjGKiK"
      },
      "execution_count": 12,
      "outputs": []
    },
    {
      "cell_type": "markdown",
      "source": [
        "# p.203"
      ],
      "metadata": {
        "id": "GykVrDxsGkBj"
      }
    },
    {
      "cell_type": "code",
      "source": [
        "y1 <- c(10,15,20,30,40,50,55,66,77,80,90,100,200,225)"
      ],
      "metadata": {
        "id": "Uqnta6eAGX1T"
      },
      "execution_count": 13,
      "outputs": []
    },
    {
      "cell_type": "code",
      "source": [
        "boxplot(y1)"
      ],
      "metadata": {
        "colab": {
          "base_uri": "https://localhost:8080/",
          "height": 437
        },
        "id": "U-qV43uWGtqj",
        "outputId": "f913a676-f45d-4e20-b368-f2fd31993d04"
      },
      "execution_count": 14,
      "outputs": [
        {
          "output_type": "display_data",
          "data": {
            "text/plain": [
              "plot without title"
            ],
            "image/png": "[encoded data removed]"
          },
          "metadata": {
            "image/png": {
              "width": 420,
              "height": 420
            }
          }
        }
      ]
    },
    {
      "cell_type": "code",
      "source": [
        "plot(y1)"
      ],
      "metadata": {
        "colab": {
          "base_uri": "https://localhost:8080/",
          "height": 437
        },
        "id": "9BKfVotrGwJD",
        "outputId": "c1e08c40-0d54-4608-ee88-3bf06ad82a9a"
      },
      "execution_count": 15,
      "outputs": [
        {
          "output_type": "display_data",
          "data": {
            "text/plain": [
              "plot without title"
            ],
            "image/png": "[encoded data removed]"
          },
          "metadata": {
            "image/png": {
              "width": 420,
              "height": 420
            }
          }
        }
      ]
    },
    {
      "cell_type": "code",
      "source": [],
      "metadata": {
        "id": "tu_aqa6_Gx5U"
      },
      "execution_count": null,
      "outputs": []
    }
  ]
}