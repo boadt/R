{
  "nbformat": 4,
  "nbformat_minor": 0,
  "metadata": {
    "colab": {
      "provenance": [],
      "authorship_tag": "ABX9TyPKuCbYnTlhzvDk68hYOWk6",
      "include_colab_link": true
    },
    "kernelspec": {
      "name": "ir",
      "display_name": "R"
    },
    "language_info": {
      "name": "R"
    }
  },
  "cells": [
    {
      "cell_type": "markdown",
      "metadata": {
        "id": "view-in-github",
        "colab_type": "text"
      },
      "source": [
        "<a href=\"https://colab.research.google.com/github/boadt/R/blob/main/R_%ED%94%84%EB%A1%9C%EA%B7%B8%EB%9E%98%EB%B0%8D_1_(20230309).ipynb\" target=\"_parent\"><img src=\"https://colab.research.google.com/assets/colab-badge.svg\" alt=\"Open In Colab\"/></a>"
      ]
    },
    {
      "cell_type": "markdown",
      "source": [
        "/#create=true&language=R"
      ],
      "metadata": {
        "id": "yD-mtJj9wmGn"
      }
    },
    {
      "cell_type": "code",
      "execution_count": 1,
      "metadata": {
        "id": "QbfktoDWwY5u"
      },
      "outputs": [],
      "source": [
        "x<-c(1,2,3,4,5,6,7,8,9)\n",
        "A<-matrix(x, nrow=3, ncol=3)"
      ]
    },
    {
      "cell_type": "code",
      "source": [
        "A"
      ],
      "metadata": {
        "colab": {
          "base_uri": "https://localhost:8080/",
          "height": 163
        },
        "id": "5SyrkTt0wuu7",
        "outputId": "ef9c0589-71b1-440e-c635-d988f88609dd"
      },
      "execution_count": 2,
      "outputs": [
        {
          "output_type": "display_data",
          "data": {
            "text/html": [
              "<table class=\"dataframe\">\n",
              "<caption>A matrix: 3 × 3 of type dbl</caption>\n",
              "<tbody>\n",
              "\t<tr><td>1</td><td>4</td><td>7</td></tr>\n",
              "\t<tr><td>2</td><td>5</td><td>8</td></tr>\n",
              "\t<tr><td>3</td><td>6</td><td>9</td></tr>\n",
              "</tbody>\n",
              "</table>\n"
            ],
            "text/markdown": "\nA matrix: 3 × 3 of type dbl\n\n| 1 | 4 | 7 |\n| 2 | 5 | 8 |\n| 3 | 6 | 9 |\n\n",
            "text/latex": "A matrix: 3 × 3 of type dbl\n\\begin{tabular}{lll}\n\t 1 & 4 & 7\\\\\n\t 2 & 5 & 8\\\\\n\t 3 & 6 & 9\\\\\n\\end{tabular}\n",
            "text/plain": [
              "     [,1] [,2] [,3]\n",
              "[1,] 1    4    7   \n",
              "[2,] 2    5    8   \n",
              "[3,] 3    6    9   "
            ]
          },
          "metadata": {}
        }
      ]
    },
    {
      "cell_type": "code",
      "source": [
        "B<-matrix(x, nrow=3, ncol=3, byrow=T)\n",
        "B"
      ],
      "metadata": {
        "colab": {
          "base_uri": "https://localhost:8080/",
          "height": 163
        },
        "id": "qgr21jK2weJe",
        "outputId": "4211dd90-7bee-4670-9ed7-e76e95114da1"
      },
      "execution_count": null,
      "outputs": [
        {
          "output_type": "display_data",
          "data": {
            "text/html": [
              "<table class=\"dataframe\">\n",
              "<caption>A matrix: 3 × 3 of type dbl</caption>\n",
              "<tbody>\n",
              "\t<tr><td>1</td><td>2</td><td>3</td></tr>\n",
              "\t<tr><td>4</td><td>5</td><td>6</td></tr>\n",
              "\t<tr><td>7</td><td>8</td><td>9</td></tr>\n",
              "</tbody>\n",
              "</table>\n"
            ],
            "text/markdown": "\nA matrix: 3 × 3 of type dbl\n\n| 1 | 2 | 3 |\n| 4 | 5 | 6 |\n| 7 | 8 | 9 |\n\n",
            "text/latex": "A matrix: 3 × 3 of type dbl\n\\begin{tabular}{lll}\n\t 1 & 2 & 3\\\\\n\t 4 & 5 & 6\\\\\n\t 7 & 8 & 9\\\\\n\\end{tabular}\n",
            "text/plain": [
              "     [,1] [,2] [,3]\n",
              "[1,] 1    2    3   \n",
              "[2,] 4    5    6   \n",
              "[3,] 7    8    9   "
            ]
          },
          "metadata": {}
        }
      ]
    },
    {
      "cell_type": "code",
      "source": [
        "xx<-c(1,2,3,4,5,6)\n",
        "arr<-array(xx, dim=c(2,2,3))\n",
        "arr[ , ,1]"
      ],
      "metadata": {
        "colab": {
          "base_uri": "https://localhost:8080/",
          "height": 184
        },
        "id": "c2AQ3Ukuw8XF",
        "outputId": "78213b43-53b7-4a76-d5a2-1ae1b2c1e168"
      },
      "execution_count": null,
      "outputs": [
        {
          "output_type": "display_data",
          "data": {
            "text/html": [
              "<table class=\"dataframe\">\n",
              "<caption>A matrix: 2 × 2 of type dbl</caption>\n",
              "<tbody>\n",
              "\t<tr><td>1</td><td>3</td></tr>\n",
              "\t<tr><td>2</td><td>4</td></tr>\n",
              "</tbody>\n",
              "</table>\n"
            ],
            "text/markdown": "\nA matrix: 2 × 2 of type dbl\n\n| 1 | 3 |\n| 2 | 4 |\n\n",
            "text/latex": "A matrix: 2 × 2 of type dbl\n\\begin{tabular}{ll}\n\t 1 & 3\\\\\n\t 2 & 4\\\\\n\\end{tabular}\n",
            "text/plain": [
              "     [,1] [,2]\n",
              "[1,] 1    3   \n",
              "[2,] 2    4   "
            ]
          },
          "metadata": {}
        }
      ]
    },
    {
      "cell_type": "code",
      "source": [
        "ID<-c(1,2,3,4,5,6,7,8,9,10)\n",
        "SEX<-c(\"F\",\"F\",\"M\",\"M\",\"F\",\"F\",\"M\",\"F\",\"F\",\"M\")\n",
        "AGE<-c(30,23,25,56,54,43,37,43,34,34)\n",
        "AREA<-c(\"제주\",\"서울\",\"서울\",\"경기\",\"제주\",\"인천\",\"경기\",\"인천\",\"제주\",\"제주\")\n",
        "\n",
        "f<- data.frame(ID,SEX,AGE,AREA)\n",
        "f"
      ],
      "metadata": {
        "colab": {
          "base_uri": "https://localhost:8080/",
          "height": 412
        },
        "id": "U7ETc7yZxucN",
        "outputId": "f457baf4-8916-42f7-9056-a3e9d617756f"
      },
      "execution_count": null,
      "outputs": [
        {
          "output_type": "display_data",
          "data": {
            "text/html": [
              "<table class=\"dataframe\">\n",
              "<caption>A data.frame: 10 × 4</caption>\n",
              "<thead>\n",
              "\t<tr><th scope=col>ID</th><th scope=col>SEX</th><th scope=col>AGE</th><th scope=col>AREA</th></tr>\n",
              "\t<tr><th scope=col>&lt;dbl&gt;</th><th scope=col>&lt;chr&gt;</th><th scope=col>&lt;dbl&gt;</th><th scope=col>&lt;chr&gt;</th></tr>\n",
              "</thead>\n",
              "<tbody>\n",
              "\t<tr><td> 1</td><td>F</td><td>30</td><td>제주</td></tr>\n",
              "\t<tr><td> 2</td><td>F</td><td>23</td><td>서울</td></tr>\n",
              "\t<tr><td> 3</td><td>M</td><td>25</td><td>서울</td></tr>\n",
              "\t<tr><td> 4</td><td>M</td><td>56</td><td>경기</td></tr>\n",
              "\t<tr><td> 5</td><td>F</td><td>54</td><td>제주</td></tr>\n",
              "\t<tr><td> 6</td><td>F</td><td>43</td><td>인천</td></tr>\n",
              "\t<tr><td> 7</td><td>M</td><td>37</td><td>경기</td></tr>\n",
              "\t<tr><td> 8</td><td>F</td><td>43</td><td>인천</td></tr>\n",
              "\t<tr><td> 9</td><td>F</td><td>34</td><td>제주</td></tr>\n",
              "\t<tr><td>10</td><td>M</td><td>34</td><td>제주</td></tr>\n",
              "</tbody>\n",
              "</table>\n"
            ],
            "text/markdown": "\nA data.frame: 10 × 4\n\n| ID &lt;dbl&gt; | SEX &lt;chr&gt; | AGE &lt;dbl&gt; | AREA &lt;chr&gt; |\n|---|---|---|---|\n|  1 | F | 30 | 제주 |\n|  2 | F | 23 | 서울 |\n|  3 | M | 25 | 서울 |\n|  4 | M | 56 | 경기 |\n|  5 | F | 54 | 제주 |\n|  6 | F | 43 | 인천 |\n|  7 | M | 37 | 경기 |\n|  8 | F | 43 | 인천 |\n|  9 | F | 34 | 제주 |\n| 10 | M | 34 | 제주 |\n\n",
            "text/latex": "A data.frame: 10 × 4\n\\begin{tabular}{llll}\n ID & SEX & AGE & AREA\\\\\n <dbl> & <chr> & <dbl> & <chr>\\\\\n\\hline\n\t  1 & F & 30 & 제주\\\\\n\t  2 & F & 23 & 서울\\\\\n\t  3 & M & 25 & 서울\\\\\n\t  4 & M & 56 & 경기\\\\\n\t  5 & F & 54 & 제주\\\\\n\t  6 & F & 43 & 인천\\\\\n\t  7 & M & 37 & 경기\\\\\n\t  8 & F & 43 & 인천\\\\\n\t  9 & F & 34 & 제주\\\\\n\t 10 & M & 34 & 제주\\\\\n\\end{tabular}\n",
            "text/plain": [
              "   ID SEX AGE AREA\n",
              "1   1 F   30  제주\n",
              "2   2 F   23  서울\n",
              "3   3 M   25  서울\n",
              "4   4 M   56  경기\n",
              "5   5 F   54  제주\n",
              "6   6 F   43  인천\n",
              "7   7 M   37  경기\n",
              "8   8 F   43  인천\n",
              "9   9 F   34  제주\n",
              "10 10 M   34  제주"
            ]
          },
          "metadata": {}
        }
      ]
    },
    {
      "cell_type": "code",
      "source": [
        "str(f)"
      ],
      "metadata": {
        "colab": {
          "base_uri": "https://localhost:8080/"
        },
        "id": "tk78W6Qe0K57",
        "outputId": "7df2ab2f-d267-4596-f602-0640a5e4ed14"
      },
      "execution_count": null,
      "outputs": [
        {
          "output_type": "stream",
          "name": "stdout",
          "text": [
            "'data.frame':\t10 obs. of  4 variables:\n",
            " $ ID  : num  1 2 3 4 5 6 7 8 9 10\n",
            " $ SEX : chr  \"F\" \"F\" \"M\" \"M\" ...\n",
            " $ AGE : num  30 23 25 56 54 43 37 43 34 34\n",
            " $ AREA: chr  \"제주\" \"서울\" \"서울\" \"경기\" ...\n"
          ]
        }
      ]
    },
    {
      "cell_type": "code",
      "source": [
        "f$AGE"
      ],
      "metadata": {
        "colab": {
          "base_uri": "https://localhost:8080/",
          "height": 34
        },
        "id": "vPl1t0dd0kYT",
        "outputId": "7a6c1378-16bb-42b6-bcb9-2e2c416726b4"
      },
      "execution_count": null,
      "outputs": [
        {
          "output_type": "display_data",
          "data": {
            "text/html": [
              "<style>\n",
              ".list-inline {list-style: none; margin:0; padding: 0}\n",
              ".list-inline>li {display: inline-block}\n",
              ".list-inline>li:not(:last-child)::after {content: \"\\00b7\"; padding: 0 .5ex}\n",
              "</style>\n",
              "<ol class=list-inline><li>30</li><li>23</li><li>25</li><li>56</li><li>54</li><li>43</li><li>37</li><li>43</li><li>34</li><li>34</li></ol>\n"
            ],
            "text/markdown": "1. 30\n2. 23\n3. 25\n4. 56\n5. 54\n6. 43\n7. 37\n8. 43\n9. 34\n10. 34\n\n\n",
            "text/latex": "\\begin{enumerate*}\n\\item 30\n\\item 23\n\\item 25\n\\item 56\n\\item 54\n\\item 43\n\\item 37\n\\item 43\n\\item 34\n\\item 34\n\\end{enumerate*}\n",
            "text/plain": [
              " [1] 30 23 25 56 54 43 37 43 34 34"
            ]
          },
          "metadata": {}
        }
      ]
    },
    {
      "cell_type": "code",
      "source": [
        "str(ID)"
      ],
      "metadata": {
        "colab": {
          "base_uri": "https://localhost:8080/"
        },
        "id": "5tEOrbey1B-b",
        "outputId": "73813cab-fe65-4af4-c990-9d95e02bfc3b"
      },
      "execution_count": null,
      "outputs": [
        {
          "output_type": "stream",
          "name": "stdout",
          "text": [
            " num [1:10] 1 2 3 4 5 6 7 8 9 10\n"
          ]
        }
      ]
    },
    {
      "cell_type": "code",
      "source": [
        "str(AGE)"
      ],
      "metadata": {
        "colab": {
          "base_uri": "https://localhost:8080/"
        },
        "id": "YowbqL_B1wfL",
        "outputId": "db0f51a6-ea2f-4a49-e47b-0f26ed13a62e"
      },
      "execution_count": null,
      "outputs": [
        {
          "output_type": "stream",
          "name": "stdout",
          "text": [
            " num [1:10] 30 23 25 56 54 43 37 43 34 34\n"
          ]
        }
      ]
    },
    {
      "cell_type": "code",
      "source": [
        "str(AREA)"
      ],
      "metadata": {
        "colab": {
          "base_uri": "https://localhost:8080/"
        },
        "id": "pjGi8VXU10Qb",
        "outputId": "20abfdcf-6774-4382-bc78-4639d6b8d00d"
      },
      "execution_count": null,
      "outputs": [
        {
          "output_type": "stream",
          "name": "stdout",
          "text": [
            " chr [1:10] \"제주\" \"서울\" \"서울\" \"경기\" \"제주\" \"인천\" \"경기\" \"인천\" \"제주\" ...\n"
          ]
        }
      ]
    },
    {
      "cell_type": "code",
      "source": [
        "mode(ID)"
      ],
      "metadata": {
        "colab": {
          "base_uri": "https://localhost:8080/",
          "height": 34
        },
        "id": "OYZbxtf6121T",
        "outputId": "91f8d9c9-7592-46d6-e2d9-2812d875b036"
      },
      "execution_count": null,
      "outputs": [
        {
          "output_type": "display_data",
          "data": {
            "text/html": [
              "'numeric'"
            ],
            "text/markdown": "'numeric'",
            "text/latex": "'numeric'",
            "text/plain": [
              "[1] \"numeric\""
            ]
          },
          "metadata": {}
        }
      ]
    },
    {
      "cell_type": "code",
      "source": [
        "mode(AREA)"
      ],
      "metadata": {
        "colab": {
          "base_uri": "https://localhost:8080/",
          "height": 34
        },
        "id": "p5tGEFaY196a",
        "outputId": "9708b5b8-30bb-470d-cc80-6e17bde3dc89"
      },
      "execution_count": null,
      "outputs": [
        {
          "output_type": "display_data",
          "data": {
            "text/html": [
              "'character'"
            ],
            "text/markdown": "'character'",
            "text/latex": "'character'",
            "text/plain": [
              "[1] \"character\""
            ]
          },
          "metadata": {}
        }
      ]
    },
    {
      "cell_type": "code",
      "source": [
        "b<-c(TRUE,FALSE)\n",
        "mode(b)"
      ],
      "metadata": {
        "colab": {
          "base_uri": "https://localhost:8080/",
          "height": 34
        },
        "id": "6teOSK3Q2BUL",
        "outputId": "97634445-7322-484d-aee6-58b08d356894"
      },
      "execution_count": null,
      "outputs": [
        {
          "output_type": "display_data",
          "data": {
            "text/html": [
              "'logical'"
            ],
            "text/markdown": "'logical'",
            "text/latex": "'logical'",
            "text/plain": [
              "[1] \"logical\""
            ]
          },
          "metadata": {}
        }
      ]
    },
    {
      "cell_type": "code",
      "source": [
        "frute<-c(\"apple\",\"banana\",\"banana\",\"cherry\",\"apple\",\"banana\",\"cherry\",\"cherry\",\"apple\",\"apple\")\n",
        "frute<-factor(frute, labels = c(\"apple\",\"banana\",\"cherry\"))\n",
        "str(frute)"
      ],
      "metadata": {
        "colab": {
          "base_uri": "https://localhost:8080/"
        },
        "id": "vr9QHPvd2z9y",
        "outputId": "a5911424-e171-4afa-f343-c33e8998f259"
      },
      "execution_count": null,
      "outputs": [
        {
          "output_type": "stream",
          "name": "stdout",
          "text": [
            " Factor w/ 3 levels \"apple\",\"banana\",..: 1 2 2 3 1 2 3 3 1 1\n"
          ]
        }
      ]
    },
    {
      "cell_type": "code",
      "source": [
        "f$SEX<-factor(SEX, labels = c(\"F\",\"M\"))\n",
        "str(f$SEX)"
      ],
      "metadata": {
        "colab": {
          "base_uri": "https://localhost:8080/"
        },
        "id": "7JrTYL3B4LJl",
        "outputId": "1f230a72-087e-469c-a195-a2732b88030f"
      },
      "execution_count": null,
      "outputs": [
        {
          "output_type": "stream",
          "name": "stdout",
          "text": [
            " Factor w/ 2 levels \"F\",\"M\": 1 1 2 2 1 1 2 1 1 2\n"
          ]
        }
      ]
    },
    {
      "cell_type": "code",
      "source": [
        "f$AREA<-factor(AREA, labels = c(\"서울\",\"경기\",\"제주\",\"인천\"))\n",
        "str(f$AREA)"
      ],
      "metadata": {
        "colab": {
          "base_uri": "https://localhost:8080/"
        },
        "id": "iFENx7Ly5J8q",
        "outputId": "7227ac3e-d4e6-4dbf-b009-d7901d7ed424"
      },
      "execution_count": null,
      "outputs": [
        {
          "output_type": "stream",
          "name": "stdout",
          "text": [
            " Factor w/ 4 levels \"서울\",\"경기\",..: 4 2 2 1 4 3 1 3 4 4\n"
          ]
        }
      ]
    },
    {
      "cell_type": "code",
      "source": [
        "x<- 1:10\n",
        "y <- 10:1\n",
        "\n",
        "print(x)\n",
        "y"
      ],
      "metadata": {
        "colab": {
          "base_uri": "https://localhost:8080/",
          "height": 53
        },
        "id": "7zo8NStV5nuw",
        "outputId": "30acd474-0b6e-46e9-af70-59bce5c6ec9c"
      },
      "execution_count": null,
      "outputs": [
        {
          "output_type": "stream",
          "name": "stdout",
          "text": [
            " [1]  1  2  3  4  5  6  7  8  9 10\n"
          ]
        },
        {
          "output_type": "display_data",
          "data": {
            "text/html": [
              "<style>\n",
              ".list-inline {list-style: none; margin:0; padding: 0}\n",
              ".list-inline>li {display: inline-block}\n",
              ".list-inline>li:not(:last-child)::after {content: \"\\00b7\"; padding: 0 .5ex}\n",
              "</style>\n",
              "<ol class=list-inline><li>10</li><li>9</li><li>8</li><li>7</li><li>6</li><li>5</li><li>4</li><li>3</li><li>2</li><li>1</li></ol>\n"
            ],
            "text/markdown": "1. 10\n2. 9\n3. 8\n4. 7\n5. 6\n6. 5\n7. 4\n8. 3\n9. 2\n10. 1\n\n\n",
            "text/latex": "\\begin{enumerate*}\n\\item 10\n\\item 9\n\\item 8\n\\item 7\n\\item 6\n\\item 5\n\\item 4\n\\item 3\n\\item 2\n\\item 1\n\\end{enumerate*}\n",
            "text/plain": [
              " [1] 10  9  8  7  6  5  4  3  2  1"
            ]
          },
          "metadata": {}
        }
      ]
    },
    {
      "cell_type": "code",
      "source": [
        "a<-10\n",
        "if(a %% 2 == 0)\n",
        "{print(\"짝수\")}else{print(\"홀수\")}\n"
      ],
      "metadata": {
        "colab": {
          "base_uri": "https://localhost:8080/"
        },
        "id": "XucAZEDB9ef2",
        "outputId": "e42ce1d6-fc7e-40ee-d0ee-9cbddd049838"
      },
      "execution_count": null,
      "outputs": [
        {
          "output_type": "stream",
          "name": "stdout",
          "text": [
            "[1] \"짝수\"\n"
          ]
        }
      ]
    },
    {
      "cell_type": "code",
      "source": [
        "b<-1\n",
        "c<-2\n",
        "d<-3\n",
        "\n",
        "if (b>c&b>d){\n",
        "  print(b)\n",
        "}else if(c>d&c>b)\n",
        "  {print(c)}else\n",
        "    {print(d)}"
      ],
      "metadata": {
        "colab": {
          "base_uri": "https://localhost:8080/"
        },
        "id": "iW3opWL0AFgd",
        "outputId": "0dcb85c2-ebd1-4df0-8cef-fdee0fabca28"
      },
      "execution_count": null,
      "outputs": [
        {
          "output_type": "stream",
          "name": "stdout",
          "text": [
            "[1] 3\n"
          ]
        }
      ]
    },
    {
      "cell_type": "code",
      "source": [
        "#2단출력\n",
        "a<-2\n",
        "\n",
        "for(i in 1:9){\n",
        "  sol<-(a*i)\n",
        "  print(sol)\n",
        "}"
      ],
      "metadata": {
        "colab": {
          "base_uri": "https://localhost:8080/"
        },
        "id": "pfWoJ8QzCBQa",
        "outputId": "fc875be7-5321-4691-9fec-2e78431dda41"
      },
      "execution_count": null,
      "outputs": [
        {
          "output_type": "stream",
          "name": "stdout",
          "text": [
            "[1] 2\n",
            "[1] 4\n",
            "[1] 6\n",
            "[1] 8\n",
            "[1] 10\n",
            "[1] 12\n",
            "[1] 14\n",
            "[1] 16\n",
            "[1] 18\n"
          ]
        }
      ]
    },
    {
      "cell_type": "code",
      "source": [
        "for(i in 1:100){\n",
        "  sum<-i\n",
        "  sol<-sum+i\n",
        "  print(sol)\n",
        "}"
      ],
      "metadata": {
        "colab": {
          "base_uri": "https://localhost:8080/"
        },
        "id": "ED33QzLgHODR",
        "outputId": "fad3abd9-2c2e-424c-ff60-66a91af0a1dd"
      },
      "execution_count": null,
      "outputs": [
        {
          "output_type": "stream",
          "name": "stdout",
          "text": [
            "[1] 2\n",
            "[1] 4\n",
            "[1] 6\n",
            "[1] 8\n",
            "[1] 10\n",
            "[1] 12\n",
            "[1] 14\n",
            "[1] 16\n",
            "[1] 18\n",
            "[1] 20\n",
            "[1] 22\n",
            "[1] 24\n",
            "[1] 26\n",
            "[1] 28\n",
            "[1] 30\n",
            "[1] 32\n",
            "[1] 34\n",
            "[1] 36\n",
            "[1] 38\n",
            "[1] 40\n",
            "[1] 42\n",
            "[1] 44\n",
            "[1] 46\n",
            "[1] 48\n",
            "[1] 50\n",
            "[1] 52\n",
            "[1] 54\n",
            "[1] 56\n",
            "[1] 58\n",
            "[1] 60\n",
            "[1] 62\n",
            "[1] 64\n",
            "[1] 66\n",
            "[1] 68\n",
            "[1] 70\n",
            "[1] 72\n",
            "[1] 74\n",
            "[1] 76\n",
            "[1] 78\n",
            "[1] 80\n",
            "[1] 82\n",
            "[1] 84\n",
            "[1] 86\n",
            "[1] 88\n",
            "[1] 90\n",
            "[1] 92\n",
            "[1] 94\n",
            "[1] 96\n",
            "[1] 98\n",
            "[1] 100\n",
            "[1] 102\n",
            "[1] 104\n",
            "[1] 106\n",
            "[1] 108\n",
            "[1] 110\n",
            "[1] 112\n",
            "[1] 114\n",
            "[1] 116\n",
            "[1] 118\n",
            "[1] 120\n",
            "[1] 122\n",
            "[1] 124\n",
            "[1] 126\n",
            "[1] 128\n",
            "[1] 130\n",
            "[1] 132\n",
            "[1] 134\n",
            "[1] 136\n",
            "[1] 138\n",
            "[1] 140\n",
            "[1] 142\n",
            "[1] 144\n",
            "[1] 146\n",
            "[1] 148\n",
            "[1] 150\n",
            "[1] 152\n",
            "[1] 154\n",
            "[1] 156\n",
            "[1] 158\n",
            "[1] 160\n",
            "[1] 162\n",
            "[1] 164\n",
            "[1] 166\n",
            "[1] 168\n",
            "[1] 170\n",
            "[1] 172\n",
            "[1] 174\n",
            "[1] 176\n",
            "[1] 178\n",
            "[1] 180\n",
            "[1] 182\n",
            "[1] 184\n",
            "[1] 186\n",
            "[1] 188\n",
            "[1] 190\n",
            "[1] 192\n",
            "[1] 194\n",
            "[1] 196\n",
            "[1] 198\n",
            "[1] 200\n"
          ]
        }
      ]
    },
    {
      "cell_type": "code",
      "source": [
        "#1\n",
        "\n",
        "a<-1\n",
        "b<-2\n",
        "c<-3\n",
        "\n",
        "if (a>b&a>c){\n",
        "  print(a)\n",
        "}else if (b>a&b>c){\n",
        "    print(b)\n",
        "}else {print(c)}\n"
      ],
      "metadata": {
        "id": "5XKQ1yqdH0bI",
        "colab": {
          "base_uri": "https://localhost:8080/"
        },
        "outputId": "abdc57cb-fdc9-4d60-ec3d-3dc0186334ce"
      },
      "execution_count": 7,
      "outputs": [
        {
          "output_type": "stream",
          "name": "stdout",
          "text": [
            "[1] 3\n"
          ]
        }
      ]
    },
    {
      "cell_type": "code",
      "source": [
        "#2\n",
        "\n",
        "a<-1\n",
        "b<-2\n",
        "c<-3\n",
        "\n",
        "if (a>b>c){\n",
        "  print(a,b,c)\n",
        "}\n",
        "else if (a>c>b){\n",
        "  print(a,c,b)\n",
        "}\n",
        "else if (b>a>c){\n",
        "  print(b,a,c)\n",
        "}\n",
        "else if (b>c>a){\n",
        "  print(b,c,a)\n",
        "}\n",
        "else if (c>a>b){\n",
        "  print(c,a,b)\n",
        "}\n",
        "else{print(c,b,a)}\n"
      ],
      "metadata": {
        "colab": {
          "base_uri": "https://localhost:8080/",
          "height": 149
        },
        "id": "s0xKpyfRx9K-",
        "outputId": "407b2ade-8355-4c55-9e4b-3644269817e4"
      },
      "execution_count": 8,
      "outputs": [
        {
          "output_type": "error",
          "ename": "ERROR",
          "evalue": "ignored",
          "traceback": [
            "Error in parse(text = x, srcfile = src): <text>:7:8: unexpected '>'\n6: \n7: if (a>b>\n          ^\nTraceback:\n"
          ]
        }
      ]
    },
    {
      "cell_type": "code",
      "source": [
        "#3\n",
        "\n",
        "a<-2000\n",
        "\n",
        "if(a%%100 == 0&a%%400 != 0){\n",
        "  print(\"평년입니다.\")\n",
        "}else{print(\"윤년입니다.\")}"
      ],
      "metadata": {
        "colab": {
          "base_uri": "https://localhost:8080/"
        },
        "id": "xHiE6DV62CgM",
        "outputId": "f94017d4-20b6-4e94-c87b-191e1af4f05b"
      },
      "execution_count": 11,
      "outputs": [
        {
          "output_type": "stream",
          "name": "stdout",
          "text": [
            "[1] \"윤년입니다.\"\n"
          ]
        }
      ]
    },
    {
      "cell_type": "code",
      "source": [
        "#4\n",
        "\n",
        "for(i in 2:9){\n",
        "  for(j in 1:9){\n",
        "    print(i*j)\n",
        "  }\n",
        "}"
      ],
      "metadata": {
        "colab": {
          "base_uri": "https://localhost:8080/"
        },
        "id": "TI_HS2h53O5l",
        "outputId": "51c7f5d3-68fd-4944-993c-793f1bd88cd7"
      },
      "execution_count": 12,
      "outputs": [
        {
          "output_type": "stream",
          "name": "stdout",
          "text": [
            "[1] 2\n",
            "[1] 4\n",
            "[1] 6\n",
            "[1] 8\n",
            "[1] 10\n",
            "[1] 12\n",
            "[1] 14\n",
            "[1] 16\n",
            "[1] 18\n",
            "[1] 3\n",
            "[1] 6\n",
            "[1] 9\n",
            "[1] 12\n",
            "[1] 15\n",
            "[1] 18\n",
            "[1] 21\n",
            "[1] 24\n",
            "[1] 27\n",
            "[1] 4\n",
            "[1] 8\n",
            "[1] 12\n",
            "[1] 16\n",
            "[1] 20\n",
            "[1] 24\n",
            "[1] 28\n",
            "[1] 32\n",
            "[1] 36\n",
            "[1] 5\n",
            "[1] 10\n",
            "[1] 15\n",
            "[1] 20\n",
            "[1] 25\n",
            "[1] 30\n",
            "[1] 35\n",
            "[1] 40\n",
            "[1] 45\n",
            "[1] 6\n",
            "[1] 12\n",
            "[1] 18\n",
            "[1] 24\n",
            "[1] 30\n",
            "[1] 36\n",
            "[1] 42\n",
            "[1] 48\n",
            "[1] 54\n",
            "[1] 7\n",
            "[1] 14\n",
            "[1] 21\n",
            "[1] 28\n",
            "[1] 35\n",
            "[1] 42\n",
            "[1] 49\n",
            "[1] 56\n",
            "[1] 63\n",
            "[1] 8\n",
            "[1] 16\n",
            "[1] 24\n",
            "[1] 32\n",
            "[1] 40\n",
            "[1] 48\n",
            "[1] 56\n",
            "[1] 64\n",
            "[1] 72\n",
            "[1] 9\n",
            "[1] 18\n",
            "[1] 27\n",
            "[1] 36\n",
            "[1] 45\n",
            "[1] 54\n",
            "[1] 63\n",
            "[1] 72\n",
            "[1] 81\n"
          ]
        }
      ]
    },
    {
      "cell_type": "code",
      "source": [
        "#5\n",
        "\n",
        "sum<-0\n",
        "for(i in 1:100){\n",
        "  sum<-sum + i\n",
        "}\n",
        "print(sum)"
      ],
      "metadata": {
        "colab": {
          "base_uri": "https://localhost:8080/"
        },
        "id": "F1X1_ST63rR2",
        "outputId": "d954b27d-424e-49fc-9b8c-dda3ca3c5a07"
      },
      "execution_count": 14,
      "outputs": [
        {
          "output_type": "stream",
          "name": "stdout",
          "text": [
            "[1] 5050\n"
          ]
        }
      ]
    },
    {
      "cell_type": "code",
      "source": [
        "#6\n",
        "\n",
        "mul<-1\n",
        "for(i in 1:5){\n",
        "  mul<-mul*i\n",
        "}\n",
        "print(mul)"
      ],
      "metadata": {
        "colab": {
          "base_uri": "https://localhost:8080/"
        },
        "id": "9f3kCjIS4ARD",
        "outputId": "a660913e-79c0-4605-8e0a-c3bbc96272f3"
      },
      "execution_count": 16,
      "outputs": [
        {
          "output_type": "stream",
          "name": "stdout",
          "text": [
            "[1] 120\n"
          ]
        }
      ]
    },
    {
      "cell_type": "code",
      "source": [
        "#7\n",
        "\n",
        "\n",
        "for(i in 1:100){\n",
        "  if(i%%2 == 0){\n",
        "      print(\"짝수입니다.\")}\n",
        "else{print(\"홀수입니다.\")}\n",
        "}"
      ],
      "metadata": {
        "colab": {
          "base_uri": "https://localhost:8080/"
        },
        "id": "oNkuHx5p4bZ0",
        "outputId": "00617504-8b1c-4c3b-a2a6-f26fdb5e6181"
      },
      "execution_count": 20,
      "outputs": [
        {
          "output_type": "stream",
          "name": "stdout",
          "text": [
            "[1] \"홀수입니다.\"\n",
            "[1] \"짝수입니다.\"\n",
            "[1] \"홀수입니다.\"\n",
            "[1] \"짝수입니다.\"\n",
            "[1] \"홀수입니다.\"\n",
            "[1] \"짝수입니다.\"\n",
            "[1] \"홀수입니다.\"\n",
            "[1] \"짝수입니다.\"\n",
            "[1] \"홀수입니다.\"\n",
            "[1] \"짝수입니다.\"\n",
            "[1] \"홀수입니다.\"\n",
            "[1] \"짝수입니다.\"\n",
            "[1] \"홀수입니다.\"\n",
            "[1] \"짝수입니다.\"\n",
            "[1] \"홀수입니다.\"\n",
            "[1] \"짝수입니다.\"\n",
            "[1] \"홀수입니다.\"\n",
            "[1] \"짝수입니다.\"\n",
            "[1] \"홀수입니다.\"\n",
            "[1] \"짝수입니다.\"\n",
            "[1] \"홀수입니다.\"\n",
            "[1] \"짝수입니다.\"\n",
            "[1] \"홀수입니다.\"\n",
            "[1] \"짝수입니다.\"\n",
            "[1] \"홀수입니다.\"\n",
            "[1] \"짝수입니다.\"\n",
            "[1] \"홀수입니다.\"\n",
            "[1] \"짝수입니다.\"\n",
            "[1] \"홀수입니다.\"\n",
            "[1] \"짝수입니다.\"\n",
            "[1] \"홀수입니다.\"\n",
            "[1] \"짝수입니다.\"\n",
            "[1] \"홀수입니다.\"\n",
            "[1] \"짝수입니다.\"\n",
            "[1] \"홀수입니다.\"\n",
            "[1] \"짝수입니다.\"\n",
            "[1] \"홀수입니다.\"\n",
            "[1] \"짝수입니다.\"\n",
            "[1] \"홀수입니다.\"\n",
            "[1] \"짝수입니다.\"\n",
            "[1] \"홀수입니다.\"\n",
            "[1] \"짝수입니다.\"\n",
            "[1] \"홀수입니다.\"\n",
            "[1] \"짝수입니다.\"\n",
            "[1] \"홀수입니다.\"\n",
            "[1] \"짝수입니다.\"\n",
            "[1] \"홀수입니다.\"\n",
            "[1] \"짝수입니다.\"\n",
            "[1] \"홀수입니다.\"\n",
            "[1] \"짝수입니다.\"\n",
            "[1] \"홀수입니다.\"\n",
            "[1] \"짝수입니다.\"\n",
            "[1] \"홀수입니다.\"\n",
            "[1] \"짝수입니다.\"\n",
            "[1] \"홀수입니다.\"\n",
            "[1] \"짝수입니다.\"\n",
            "[1] \"홀수입니다.\"\n",
            "[1] \"짝수입니다.\"\n",
            "[1] \"홀수입니다.\"\n",
            "[1] \"짝수입니다.\"\n",
            "[1] \"홀수입니다.\"\n",
            "[1] \"짝수입니다.\"\n",
            "[1] \"홀수입니다.\"\n",
            "[1] \"짝수입니다.\"\n",
            "[1] \"홀수입니다.\"\n",
            "[1] \"짝수입니다.\"\n",
            "[1] \"홀수입니다.\"\n",
            "[1] \"짝수입니다.\"\n",
            "[1] \"홀수입니다.\"\n",
            "[1] \"짝수입니다.\"\n",
            "[1] \"홀수입니다.\"\n",
            "[1] \"짝수입니다.\"\n",
            "[1] \"홀수입니다.\"\n",
            "[1] \"짝수입니다.\"\n",
            "[1] \"홀수입니다.\"\n",
            "[1] \"짝수입니다.\"\n",
            "[1] \"홀수입니다.\"\n",
            "[1] \"짝수입니다.\"\n",
            "[1] \"홀수입니다.\"\n",
            "[1] \"짝수입니다.\"\n",
            "[1] \"홀수입니다.\"\n",
            "[1] \"짝수입니다.\"\n",
            "[1] \"홀수입니다.\"\n",
            "[1] \"짝수입니다.\"\n",
            "[1] \"홀수입니다.\"\n",
            "[1] \"짝수입니다.\"\n",
            "[1] \"홀수입니다.\"\n",
            "[1] \"짝수입니다.\"\n",
            "[1] \"홀수입니다.\"\n",
            "[1] \"짝수입니다.\"\n",
            "[1] \"홀수입니다.\"\n",
            "[1] \"짝수입니다.\"\n",
            "[1] \"홀수입니다.\"\n",
            "[1] \"짝수입니다.\"\n",
            "[1] \"홀수입니다.\"\n",
            "[1] \"짝수입니다.\"\n",
            "[1] \"홀수입니다.\"\n",
            "[1] \"짝수입니다.\"\n",
            "[1] \"홀수입니다.\"\n",
            "[1] \"짝수입니다.\"\n"
          ]
        }
      ]
    },
    {
      "cell_type": "code",
      "source": [
        "#8\n",
        "\n",
        "for(i in 1:100){\n",
        "  if(i%%5 ==0){print(\"5의 배수\")\n",
        "  }else{print(\"5의 배수가 아닙니다.\")}}"
      ],
      "metadata": {
        "colab": {
          "base_uri": "https://localhost:8080/"
        },
        "id": "bGFXzwpy4zXQ",
        "outputId": "c732391f-0884-4c84-a094-c22f14f59bb4"
      },
      "execution_count": 29,
      "outputs": [
        {
          "output_type": "stream",
          "name": "stdout",
          "text": [
            "[1] \"5의 배수가 아닙니다.\"\n",
            "[1] \"5의 배수가 아닙니다.\"\n",
            "[1] \"5의 배수가 아닙니다.\"\n",
            "[1] \"5의 배수가 아닙니다.\"\n",
            "[1] \"5의 배수\"\n",
            "[1] \"5의 배수가 아닙니다.\"\n",
            "[1] \"5의 배수가 아닙니다.\"\n",
            "[1] \"5의 배수가 아닙니다.\"\n",
            "[1] \"5의 배수가 아닙니다.\"\n",
            "[1] \"5의 배수\"\n",
            "[1] \"5의 배수가 아닙니다.\"\n",
            "[1] \"5의 배수가 아닙니다.\"\n",
            "[1] \"5의 배수가 아닙니다.\"\n",
            "[1] \"5의 배수가 아닙니다.\"\n",
            "[1] \"5의 배수\"\n",
            "[1] \"5의 배수가 아닙니다.\"\n",
            "[1] \"5의 배수가 아닙니다.\"\n",
            "[1] \"5의 배수가 아닙니다.\"\n",
            "[1] \"5의 배수가 아닙니다.\"\n",
            "[1] \"5의 배수\"\n",
            "[1] \"5의 배수가 아닙니다.\"\n",
            "[1] \"5의 배수가 아닙니다.\"\n",
            "[1] \"5의 배수가 아닙니다.\"\n",
            "[1] \"5의 배수가 아닙니다.\"\n",
            "[1] \"5의 배수\"\n",
            "[1] \"5의 배수가 아닙니다.\"\n",
            "[1] \"5의 배수가 아닙니다.\"\n",
            "[1] \"5의 배수가 아닙니다.\"\n",
            "[1] \"5의 배수가 아닙니다.\"\n",
            "[1] \"5의 배수\"\n",
            "[1] \"5의 배수가 아닙니다.\"\n",
            "[1] \"5의 배수가 아닙니다.\"\n",
            "[1] \"5의 배수가 아닙니다.\"\n",
            "[1] \"5의 배수가 아닙니다.\"\n",
            "[1] \"5의 배수\"\n",
            "[1] \"5의 배수가 아닙니다.\"\n",
            "[1] \"5의 배수가 아닙니다.\"\n",
            "[1] \"5의 배수가 아닙니다.\"\n",
            "[1] \"5의 배수가 아닙니다.\"\n",
            "[1] \"5의 배수\"\n",
            "[1] \"5의 배수가 아닙니다.\"\n",
            "[1] \"5의 배수가 아닙니다.\"\n",
            "[1] \"5의 배수가 아닙니다.\"\n",
            "[1] \"5의 배수가 아닙니다.\"\n",
            "[1] \"5의 배수\"\n",
            "[1] \"5의 배수가 아닙니다.\"\n",
            "[1] \"5의 배수가 아닙니다.\"\n",
            "[1] \"5의 배수가 아닙니다.\"\n",
            "[1] \"5의 배수가 아닙니다.\"\n",
            "[1] \"5의 배수\"\n",
            "[1] \"5의 배수가 아닙니다.\"\n",
            "[1] \"5의 배수가 아닙니다.\"\n",
            "[1] \"5의 배수가 아닙니다.\"\n",
            "[1] \"5의 배수가 아닙니다.\"\n",
            "[1] \"5의 배수\"\n",
            "[1] \"5의 배수가 아닙니다.\"\n",
            "[1] \"5의 배수가 아닙니다.\"\n",
            "[1] \"5의 배수가 아닙니다.\"\n",
            "[1] \"5의 배수가 아닙니다.\"\n",
            "[1] \"5의 배수\"\n",
            "[1] \"5의 배수가 아닙니다.\"\n",
            "[1] \"5의 배수가 아닙니다.\"\n",
            "[1] \"5의 배수가 아닙니다.\"\n",
            "[1] \"5의 배수가 아닙니다.\"\n",
            "[1] \"5의 배수\"\n",
            "[1] \"5의 배수가 아닙니다.\"\n",
            "[1] \"5의 배수가 아닙니다.\"\n",
            "[1] \"5의 배수가 아닙니다.\"\n",
            "[1] \"5의 배수가 아닙니다.\"\n",
            "[1] \"5의 배수\"\n",
            "[1] \"5의 배수가 아닙니다.\"\n",
            "[1] \"5의 배수가 아닙니다.\"\n",
            "[1] \"5의 배수가 아닙니다.\"\n",
            "[1] \"5의 배수가 아닙니다.\"\n",
            "[1] \"5의 배수\"\n",
            "[1] \"5의 배수가 아닙니다.\"\n",
            "[1] \"5의 배수가 아닙니다.\"\n",
            "[1] \"5의 배수가 아닙니다.\"\n",
            "[1] \"5의 배수가 아닙니다.\"\n",
            "[1] \"5의 배수\"\n",
            "[1] \"5의 배수가 아닙니다.\"\n",
            "[1] \"5의 배수가 아닙니다.\"\n",
            "[1] \"5의 배수가 아닙니다.\"\n",
            "[1] \"5의 배수가 아닙니다.\"\n",
            "[1] \"5의 배수\"\n",
            "[1] \"5의 배수가 아닙니다.\"\n",
            "[1] \"5의 배수가 아닙니다.\"\n",
            "[1] \"5의 배수가 아닙니다.\"\n",
            "[1] \"5의 배수가 아닙니다.\"\n",
            "[1] \"5의 배수\"\n",
            "[1] \"5의 배수가 아닙니다.\"\n",
            "[1] \"5의 배수가 아닙니다.\"\n",
            "[1] \"5의 배수가 아닙니다.\"\n",
            "[1] \"5의 배수가 아닙니다.\"\n",
            "[1] \"5의 배수\"\n",
            "[1] \"5의 배수가 아닙니다.\"\n",
            "[1] \"5의 배수가 아닙니다.\"\n",
            "[1] \"5의 배수가 아닙니다.\"\n",
            "[1] \"5의 배수가 아닙니다.\"\n",
            "[1] \"5의 배수\"\n"
          ]
        }
      ]
    },
    {
      "cell_type": "code",
      "source": [
        "#9\n",
        "\n",
        "for(i in 1:100){\n",
        "  if(i%%2 ==0 & i%%3 == 0){\n",
        "    print(i)\n",
        "  }\n",
        "}"
      ],
      "metadata": {
        "colab": {
          "base_uri": "https://localhost:8080/"
        },
        "id": "GmOdaA645sRo",
        "outputId": "65a2d57d-2135-472a-d21e-46873aed275f"
      },
      "execution_count": 30,
      "outputs": [
        {
          "output_type": "stream",
          "name": "stdout",
          "text": [
            "[1] 6\n",
            "[1] 12\n",
            "[1] 18\n",
            "[1] 24\n",
            "[1] 30\n",
            "[1] 36\n",
            "[1] 42\n",
            "[1] 48\n",
            "[1] 54\n",
            "[1] 60\n",
            "[1] 66\n",
            "[1] 72\n",
            "[1] 78\n",
            "[1] 84\n",
            "[1] 90\n",
            "[1] 96\n"
          ]
        }
      ]
    },
    {
      "cell_type": "code",
      "source": [
        "#10\n",
        "\n",
        "sum<-0\n",
        "for(i in 1:100){\n",
        "  sum<-sum + i\n",
        "}\n",
        "print(sum/100)"
      ],
      "metadata": {
        "colab": {
          "base_uri": "https://localhost:8080/"
        },
        "id": "B4orZdhE6m_f",
        "outputId": "31b3d923-d93b-477b-c800-66f646b2893f"
      },
      "execution_count": 31,
      "outputs": [
        {
          "output_type": "stream",
          "name": "stdout",
          "text": [
            "[1] 50.5\n"
          ]
        }
      ]
    },
    {
      "cell_type": "code",
      "source": [],
      "metadata": {
        "id": "_nZNR4gy62xZ"
      },
      "execution_count": null,
      "outputs": []
    }
  ]
}